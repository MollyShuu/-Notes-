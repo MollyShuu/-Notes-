{
 "cells": [
  {
   "cell_type": "markdown",
   "metadata": {},
   "source": [
    "## Keras序贯模型(Sequential Models)"
   ]
  },
  {
   "cell_type": "code",
   "execution_count": 7,
   "metadata": {
    "ExecuteTime": {
     "end_time": "2020-02-12T08:04:56.493071Z",
     "start_time": "2020-02-12T08:04:56.255658Z"
    },
    "code_folding": [
     0
    ],
    "collapsed": true
   },
   "outputs": [
    {
     "name": "stdout",
     "output_type": "stream",
     "text": [
      "Model: \"sequential_4\"\n",
      "_________________________________________________________________\n",
      "Layer (type)                 Output Shape              Param #   \n",
      "=================================================================\n",
      "conv1d_7 (Conv1D)            (None, 18, 64)            19264     \n",
      "_________________________________________________________________\n",
      "conv1d_8 (Conv1D)            (None, 16, 64)            12352     \n",
      "_________________________________________________________________\n",
      "max_pooling1d_5 (MaxPooling1 (None, 5, 64)             0         \n",
      "_________________________________________________________________\n",
      "conv1d_9 (Conv1D)            (None, 3, 128)            24704     \n",
      "_________________________________________________________________\n",
      "conv1d_10 (Conv1D)           (None, 1, 128)            49280     \n",
      "_________________________________________________________________\n",
      "global_average_pooling1d_1 ( (None, 128)               0         \n",
      "_________________________________________________________________\n",
      "dropout_5 (Dropout)          (None, 128)               0         \n",
      "_________________________________________________________________\n",
      "dense_5 (Dense)              (None, 1)                 129       \n",
      "=================================================================\n",
      "Total params: 105,729\n",
      "Trainable params: 105,729\n",
      "Non-trainable params: 0\n",
      "_________________________________________________________________\n"
     ]
    }
   ],
   "source": [
    "# sequential models\n",
    "from keras.models import Sequential\n",
    "from keras.layers import Dense, Dropout\n",
    "from keras.layers import Embedding\n",
    "from keras.layers import Conv1D, GlobalAveragePooling1D, MaxPooling1D\n",
    "\n",
    "def CNN_model():\n",
    "    model = Sequential()\n",
    "    model.add(Conv1D(64, 3, activation='relu', input_shape=(20, 100)))\n",
    "    model.add(Conv1D(64, 3, activation='relu'))\n",
    "    model.add(MaxPooling1D(3))\n",
    "    model.add(Conv1D(128, 3, activation='relu'))\n",
    "    model.add(Conv1D(128, 3, activation='relu'))\n",
    "    model.add(GlobalAveragePooling1D())\n",
    "    model.add(Dropout(0.5))\n",
    "    model.add(Dense(1, activation='sigmoid'))\n",
    "\n",
    "    model.compile(loss='binary_crossentropy',\n",
    "              optimizer='rmsprop',\n",
    "              metrics=['accuracy'])\n",
    "    model.summary()\n",
    "    return model\n",
    "model=CNN_model()"
   ]
  },
  {
   "cell_type": "markdown",
   "metadata": {},
   "source": [
    "## Keras函数式(functional)API构建模型"
   ]
  },
  {
   "cell_type": "code",
   "execution_count": 22,
   "metadata": {
    "ExecuteTime": {
     "end_time": "2020-02-12T08:42:39.650652Z",
     "start_time": "2020-02-12T08:42:39.551879Z"
    },
    "code_folding": [
     0
    ],
    "collapsed": true
   },
   "outputs": [
    {
     "name": "stdout",
     "output_type": "stream",
     "text": [
      "Model: \"model_9\"\n",
      "_________________________________________________________________\n",
      "Layer (type)                 Output Shape              Param #   \n",
      "=================================================================\n",
      "input_9 (InputLayer)         (None, 784)               0         \n",
      "_________________________________________________________________\n",
      "dense_30 (Dense)             (None, 64)                50240     \n",
      "_________________________________________________________________\n",
      "dense_31 (Dense)             (None, 64)                4160      \n",
      "_________________________________________________________________\n",
      "dense_32 (Dense)             (None, 10)                650       \n",
      "=================================================================\n",
      "Total params: 55,050\n",
      "Trainable params: 55,050\n",
      "Non-trainable params: 0\n",
      "_________________________________________________________________\n"
     ]
    }
   ],
   "source": [
    "# 普通模型\n",
    "# 与Sequential模型不同，你必须创建独立的Input层物件的instance并定义输入数据张量的维度形状(tensor shape)。\n",
    "# 输入层采用一个张量形状参数(tensor shape),它是一个tuple,用于宣告输入张量的维度。\n",
    "# 例如：我们要把MNIST的每张图像(28 * 28)打平成一个一维(784)的张量作为一个多层感知机(MLP)的Input。\n",
    "\n",
    "from keras.layers import Input, Dense\n",
    "from keras.models import Model\n",
    "\n",
    "# 层对象接受张量为参数，返回一个张量。\n",
    "# 输入是张量，输出也是张量的一个框架就是一个模型，通过Model定义。\n",
    "\n",
    "def model():\n",
    "    inputs = Input(shape=(784, ))\n",
    "    x = Dense(64, activation='relu')(inputs)\n",
    "    x = Dense(64, activation='relu')(x)\n",
    "    outputs = Dense(10, activation='softmax')(x)\n",
    "    model = Model(inputs=inputs, outputs=outputs)\n",
    "    model.compile(optimizer='rmsprop',\n",
    "                  loss='categorical_crossentropy',\n",
    "                  metrics=['accuracy'])\n",
    "    model.summary()  # 画出模型参数\n",
    "\n",
    "\n",
    "model = model()"
   ]
  },
  {
   "cell_type": "markdown",
   "metadata": {},
   "source": [
    "### 共享层模型"
   ]
  },
  {
   "cell_type": "code",
   "execution_count": 25,
   "metadata": {
    "ExecuteTime": {
     "end_time": "2020-02-12T09:04:37.547050Z",
     "start_time": "2020-02-12T09:04:37.461315Z"
    },
    "code_folding": [
     0
    ],
    "collapsed": true
   },
   "outputs": [
    {
     "name": "stdout",
     "output_type": "stream",
     "text": [
      "Model: \"model_10\"\n",
      "__________________________________________________________________________________________________\n",
      "Layer (type)                    Output Shape         Param #     Connected to                     \n",
      "==================================================================================================\n",
      "input_10 (InputLayer)           (None, 28, 28, 1)    0                                            \n",
      "__________________________________________________________________________________________________\n",
      "conv2d_1 (Conv2D)               (None, 25, 25, 32)   544         input_10[0][0]                   \n",
      "__________________________________________________________________________________________________\n",
      "conv2d_2 (Conv2D)               (None, 21, 21, 16)   1040        input_10[0][0]                   \n",
      "__________________________________________________________________________________________________\n",
      "max_pooling2d_1 (MaxPooling2D)  (None, 12, 12, 32)   0           conv2d_1[0][0]                   \n",
      "__________________________________________________________________________________________________\n",
      "max_pooling2d_2 (MaxPooling2D)  (None, 10, 10, 16)   0           conv2d_2[0][0]                   \n",
      "__________________________________________________________________________________________________\n",
      "flatten_3 (Flatten)             (None, 4608)         0           max_pooling2d_1[0][0]            \n",
      "__________________________________________________________________________________________________\n",
      "flatten_4 (Flatten)             (None, 1600)         0           max_pooling2d_2[0][0]            \n",
      "__________________________________________________________________________________________________\n",
      "concatenate_1 (Concatenate)     (None, 6208)         0           flatten_3[0][0]                  \n",
      "                                                                 flatten_4[0][0]                  \n",
      "__________________________________________________________________________________________________\n",
      "dense_33 (Dense)                (None, 64)           397376      concatenate_1[0][0]              \n",
      "__________________________________________________________________________________________________\n",
      "dense_34 (Dense)                (None, 10)           650         dense_33[0][0]                   \n",
      "==================================================================================================\n",
      "Total params: 399,610\n",
      "Trainable params: 399,610\n",
      "Non-trainable params: 0\n",
      "__________________________________________________________________________________________________\n"
     ]
    }
   ],
   "source": [
    "# 共享输入层\n",
    "from keras.models import Model\n",
    "from keras.layers import Input, Dense, Flatten\n",
    "from keras.layers.convolutional import Conv2D\n",
    "from keras.layers.pooling import MaxPool2D\n",
    "from keras.layers.merge import concatenate\n",
    "from keras.utils import plot_model\n",
    "\n",
    "\n",
    "# 该模型使用28　×　28　像素的灰阶图像。有两个CNN特征提取子模型共享这个输入；第一个具有４的内核大小和第二个８的内核大小。这些特征提取子模型的输出被平坦化(flatten)为向量(vector),并且被串成一个长向量；然后被传递到完全连接的层以用于最终输出层之前进行10类别预测。\n",
    "def cnn_inouts_shared():\n",
    "    \n",
    "    inputs = Input(shape=(28, 28, 1))\n",
    "    # 第一个特征提取层\n",
    "    conv1 = Conv2D(32, kernel_size=4, activation='relu')(inputs)# <- 看这里\n",
    "    pool1 = MaxPool2D(pool_size=(2, 2))(conv1)\n",
    "    flat1 = Flatten()(pool1)\n",
    "    \n",
    "    # 第二个特征提取层\n",
    "    conv2 = Conv2D(16,kernel_size=8,activation='relu')(inputs) # <- 看这里\n",
    "    pool2 = MaxPool2D(pool_size=(2,2))(conv2)\n",
    "    flat2 = Flatten()(pool2)\n",
    "    \n",
    "    # 把这两个特征提取层的结果拼接起来\n",
    "    merge = concatenate([flat1,flat2])\n",
    "    \n",
    "    # 进行全连接层\n",
    "    hidden1 = Dense(64,activation='relu')(merge)\n",
    "    # 输出层\n",
    "    output = Dense(10,activation='softmax')(hidden1)\n",
    "    model = Model(inputs =inputs,outputs = output)\n",
    "    # 打印网络结构\n",
    "    model.summary()\n",
    "    \n",
    "cnn_model =cnn_inouts_shared()"
   ]
  },
  {
   "cell_type": "code",
   "execution_count": 27,
   "metadata": {
    "ExecuteTime": {
     "end_time": "2020-02-12T09:20:27.292977Z",
     "start_time": "2020-02-12T09:20:27.017700Z"
    },
    "code_folding": [
     0
    ],
    "collapsed": true
   },
   "outputs": [
    {
     "name": "stdout",
     "output_type": "stream",
     "text": [
      "Model: \"model_11\"\n",
      "__________________________________________________________________________________________________\n",
      "Layer (type)                    Output Shape         Param #     Connected to                     \n",
      "==================================================================================================\n",
      "input_12 (InputLayer)           (None, 784, 1)       0                                            \n",
      "__________________________________________________________________________________________________\n",
      "lstm_2 (LSTM)                   (None, 128)          66560       input_12[0][0]                   \n",
      "__________________________________________________________________________________________________\n",
      "dense_36 (Dense)                (None, 64)           8256        lstm_2[0][0]                     \n",
      "__________________________________________________________________________________________________\n",
      "dense_37 (Dense)                (None, 32)           2080        dense_36[0][0]                   \n",
      "__________________________________________________________________________________________________\n",
      "dense_35 (Dense)                (None, 10)           1290        lstm_2[0][0]                     \n",
      "__________________________________________________________________________________________________\n",
      "dense_38 (Dense)                (None, 10)           330         dense_37[0][0]                   \n",
      "__________________________________________________________________________________________________\n",
      "merge (Concatenate)             (None, 20)           0           dense_35[0][0]                   \n",
      "                                                                 dense_38[0][0]                   \n",
      "__________________________________________________________________________________________________\n",
      "output (Dense)                  (None, 10)           210         merge[0][0]                      \n",
      "==================================================================================================\n",
      "Total params: 78,726\n",
      "Trainable params: 78,726\n",
      "Non-trainable params: 0\n",
      "__________________________________________________________________________________________________\n"
     ]
    }
   ],
   "source": [
    "# 共享特征提取层\n",
    "from keras.models import Model\n",
    "from keras.layers import Input, Dense\n",
    "from keras.layers.recurrent import LSTM\n",
    "from keras.layers.merge import concatenate\n",
    "\n",
    "# 该模型的输入是一个特征的784个时间步长。具有１０个存储单元的LSTM层解释这个序列。第一种解释模型是浅层单连通层，第二层是深层３层模型。两个解释模型的输出连接成一个长向量，传递给用于进行１０类别分类预测的输出层。\n",
    "def lstm_feature_shared():\n",
    "    inputs = Input(shape=(784, 1))\n",
    "\n",
    "    # 特征提取层\n",
    "    extract1 = LSTM(128)(inputs)\n",
    "\n",
    "    # 第一个解释层(浅层单连通层)\n",
    "    inter1 = Dense(10, activation='relu')(extract1)  # <- 看这里\n",
    "    # 第二个解释层(深层3层模型)\n",
    "    inter21 = Dense(64, activation='relu')(extract1)  # <- 看这里\n",
    "    inter22 = Dense(32, activation='relu')(inter21)\n",
    "    inter23 = Dense(10, activation='relu')(inter22)\n",
    "    \n",
    "    # 把两个特征提取层的结果拼起来\n",
    "    merge=concatenate([inter1,inter23],name ='merge')\n",
    "    \n",
    "    # 输出层\n",
    "    output = Dense(10,activation='softmax',name='output')(merge)\n",
    "    \n",
    "    model=Model(inputs=inputs,outputs=output)\n",
    "    model.summary()\n",
    "    \n",
    "lstm_model=lstm_feature_shared()"
   ]
  },
  {
   "cell_type": "code",
   "execution_count": 32,
   "metadata": {
    "ExecuteTime": {
     "end_time": "2020-02-12T12:26:49.491916Z",
     "start_time": "2020-02-12T12:26:49.358241Z"
    },
    "code_folding": [
     0
    ],
    "collapsed": true
   },
   "outputs": [
    {
     "name": "stdout",
     "output_type": "stream",
     "text": [
      "Model: \"model_13\"\n",
      "__________________________________________________________________________________________________\n",
      "Layer (type)                    Output Shape         Param #     Connected to                     \n",
      "==================================================================================================\n",
      "img_gray_input (InputLayer)     (None, 64, 64, 1)    0                                            \n",
      "__________________________________________________________________________________________________\n",
      "img_rgb_input (InputLayer)      (None, 32, 32, 3)    0                                            \n",
      "__________________________________________________________________________________________________\n",
      "conv2d_6 (Conv2D)               (None, 61, 61, 32)   544         img_gray_input[0][0]             \n",
      "__________________________________________________________________________________________________\n",
      "conv21 (Conv2D)                 (None, 29, 29, 32)   1568        img_rgb_input[0][0]              \n",
      "__________________________________________________________________________________________________\n",
      "pool11 (MaxPooling2D)           (None, 30, 30, 32)   0           conv2d_6[0][0]                   \n",
      "__________________________________________________________________________________________________\n",
      "pool21 (MaxPooling2D)           (None, 14, 14, 32)   0           conv21[0][0]                     \n",
      "__________________________________________________________________________________________________\n",
      "conv12 (Conv2D)                 (None, 27, 27, 16)   8208        pool11[0][0]                     \n",
      "__________________________________________________________________________________________________\n",
      "conv22 (Conv2D)                 (None, 11, 11, 16)   8208        pool21[0][0]                     \n",
      "__________________________________________________________________________________________________\n",
      "pool12 (MaxPooling2D)           (None, 13, 13, 16)   0           conv12[0][0]                     \n",
      "__________________________________________________________________________________________________\n",
      "pool22 (MaxPooling2D)           (None, 5, 5, 16)     0           conv22[0][0]                     \n",
      "__________________________________________________________________________________________________\n",
      "flatten_9 (Flatten)             (None, 2704)         0           pool12[0][0]                     \n",
      "__________________________________________________________________________________________________\n",
      "flatten_10 (Flatten)            (None, 400)          0           pool22[0][0]                     \n",
      "__________________________________________________________________________________________________\n",
      "concatenate_4 (Concatenate)     (None, 3104)         0           flatten_9[0][0]                  \n",
      "                                                                 flatten_10[0][0]                 \n",
      "__________________________________________________________________________________________________\n",
      "hidden1 (Dense)                 (None, 128)          397440      concatenate_4[0][0]              \n",
      "__________________________________________________________________________________________________\n",
      "hidden2 (Dense)                 (None, 64)           8256        hidden1[0][0]                    \n",
      "__________________________________________________________________________________________________\n",
      "output (Dense)                  (None, 10)           650         hidden2[0][0]                    \n",
      "==================================================================================================\n",
      "Total params: 424,874\n",
      "Trainable params: 424,874\n",
      "Non-trainable params: 0\n",
      "__________________________________________________________________________________________________\n"
     ]
    }
   ],
   "source": [
    "# 多输入模型\n",
    "from keras.models import Model\n",
    "from keras.layers import Input,Dense,Flatten\n",
    "from keras.layers import Conv2D\n",
    "from keras.layers import MaxPool2D\n",
    "from keras.layers.merge import concatenate\n",
    "    \n",
    "#我们将开发一个图像分类模型，将图像的两个版本作为输入，每个图像的大小不同。\n",
    "#特别是一个灰阶的64 * 64版本和一个32 * 32 彩色版本。\n",
    "#分离的特征提取CNN模型对每个模型进行操作，然后将两个模型的结果连接起来进行解释和最终的预测。\n",
    "\n",
    "#请注意在创建Model()实例(instance)时，我们将两个输入层定义为一个数组(array)。\n",
    "\n",
    "def lstm_multi_inpust():\n",
    "    \n",
    "    # 第一个输入层\n",
    "    img_gray_input = Input(shape=(64,64,1),name='img_gray_input')\n",
    "    conv11=Conv2D(32,kernel_size=4,activation='relu')(img_gray_input)\n",
    "    pool11 = MaxPool2D(pool_size=(2,2),name='pool11')(conv11)\n",
    "    conv12 = Conv2D(16,kernel_size=4,activation='relu',name='conv12')(pool11)\n",
    "    pool12 = MaxPool2D(pool_size=(2,2),name='pool12')(conv12)\n",
    "    flat1 = Flatten()(pool12)\n",
    "    \n",
    "    # 第二个输入层\n",
    "    img_rgb_input = Input(shape=(32,32,3),name='img_rgb_input')\n",
    "    conv21 = Conv2D(32,kernel_size=4,activation='relu',name='conv21')(img_rgb_input)\n",
    "    pool21 = MaxPool2D(pool_size=(2,2),name='pool21')(conv21)\n",
    "    conv22 = Conv2D(16,kernel_size=4,activation='relu',name='conv22')(pool21)\n",
    "    pool22 = MaxPool2D(pool_size=(2,2),name='pool22')(conv22)\n",
    "    flat2 = Flatten()(pool22)\n",
    "    \n",
    "    # 把两个特征提取层的结果拼起来\n",
    "    merge = concatenate([flat1,flat2])\n",
    "    \n",
    "    # 用隐藏的全连接层来解释特征\n",
    "    hidden1 = Dense(128,activation='relu',name='hidden1')(merge)\n",
    "    hidden2 = Dense(64,activation='relu',name='hidden2')(hidden1)\n",
    "\n",
    "    # 输出层\n",
    "    output = Dense(10,activation='softmax',name='output')(hidden2)\n",
    "    \n",
    "    model=Model(inputs=[img_gray_input,img_rgb_input],outputs=output)\n",
    "    \n",
    "    model.summary()\n",
    "\n",
    "multi_input_model = lstm_multi_inpust()"
   ]
  },
  {
   "cell_type": "code",
   "execution_count": 36,
   "metadata": {
    "ExecuteTime": {
     "end_time": "2020-02-12T13:11:09.340956Z",
     "start_time": "2020-02-12T13:11:09.334972Z"
    },
    "code_folding": [
     0
    ],
    "collapsed": true
   },
   "outputs": [
    {
     "ename": "SyntaxError",
     "evalue": "invalid syntax (<ipython-input-36-4b14f60fba97>, line 9)",
     "output_type": "error",
     "traceback": [
      "\u001b[1;36m  File \u001b[1;32m\"<ipython-input-36-4b14f60fba97>\"\u001b[1;36m, line \u001b[1;32m9\u001b[0m\n\u001b[1;33m    model.add(LSTM(output_nodes,input_shape=(timesteps,sequences),,return_sequences=True))\u001b[0m\n\u001b[1;37m                                                                  ^\u001b[0m\n\u001b[1;31mSyntaxError\u001b[0m\u001b[1;31m:\u001b[0m invalid syntax\n"
     ]
    }
   ],
   "source": [
    "# keras中的TimeDistributed的作用解释\n",
    "# rnn中，输入向量维度为：[batch, timesteps,sequences] , 假设为[100, 20,10]。\n",
    "# 每一个时间步都会输出一个output_nodes大小的向量，即当输入为[100,20,10]时候，输出为[100,20,5], \n",
    "# 但是当去return_sequences=false时，就会只显示最后一个时间步的输出,省略中间的一个维度，为[100,5]\n",
    "# 而keras的batchs在显示中为None,只需要在model.fit中注明batchs为多少就好。\n",
    "\n",
    "# 上面讲到当return_sequences为True时，每一步都会返回一个output_nodes大小的向量：[,20,5]\n",
    "output_nodes = 5\n",
    "model.add(LSTM(output_nodes,input_shape=(timesteps,sequences),,return_sequences=True))\n",
    "# [,20,5]\n",
    "model.add(TimeDistributed(Dense(1))) \n",
    "# TimeDistributed对每个时间步的数据都做一个相同的操作，比较方便保持数据的维度。\n",
    "# [,20,1]\n",
    "\n",
    "\n",
    "# TimeDistributed层在每个时间步上均操作了Dense\n",
    "# 如果你使用正常的Dense层，你最后只会得到一个结果,下面的output2也会变成（None，10）"
   ]
  },
  {
   "cell_type": "code",
   "execution_count": 35,
   "metadata": {
    "ExecuteTime": {
     "end_time": "2020-02-12T12:46:57.419778Z",
     "start_time": "2020-02-12T12:46:57.078009Z"
    },
    "code_folding": [
     0
    ],
    "collapsed": true
   },
   "outputs": [
    {
     "name": "stdout",
     "output_type": "stream",
     "text": [
      "Model: \"model_14\"\n",
      "__________________________________________________________________________________________________\n",
      "Layer (type)                    Output Shape         Param #     Connected to                     \n",
      "==================================================================================================\n",
      "input (InputLayer)              (None, 784, 1)       0                                            \n",
      "__________________________________________________________________________________________________\n",
      "extract (LSTM)                  (None, 784, 64)      16896       input[0][0]                      \n",
      "__________________________________________________________________________________________________\n",
      "class11 (LSTM)                  (None, 32)           12416       extract[0][0]                    \n",
      "__________________________________________________________________________________________________\n",
      "class12 (Dense)                 (None, 32)           1056        class11[0][0]                    \n",
      "__________________________________________________________________________________________________\n",
      "output1 (Dense)                 (None, 10)           330         class12[0][0]                    \n",
      "__________________________________________________________________________________________________\n",
      "output2 (TimeDistributed)       (None, 784, 10)      650         extract[0][0]                    \n",
      "==================================================================================================\n",
      "Total params: 31,348\n",
      "Trainable params: 31,348\n",
      "Non-trainable params: 0\n",
      "__________________________________________________________________________________________________\n"
     ]
    }
   ],
   "source": [
    "# 多输出模型\n",
    "from keras.models import Model\n",
    "from keras.layers import Input, Dense\n",
    "from keras.layers.recurrent import LSTM\n",
    "from keras.layers.wrappers import TimeDistributed\n",
    "# 我们将开发一个模型，进行两种不同模型的预测。\n",
    "#给定一个特征的784个时间步长的输入序列，该模型将对该序列进行分类并输出具有相同长度的新序列。\n",
    "# LSTM层解释输入序列并返回每个时间步长的隐藏状态。\n",
    "#第一个输出模型创建一个堆叠的LSTM，解释这些特征，并进行多类别预测。\n",
    "#第二个输出模型使用相同的输出层对每个输入时间步进行多类别预测。\n",
    "#lstm：[batch, timesteps,sequences],batch不输入到input_shape中\n",
    "\n",
    "def lstm_multi_output():\n",
    "    # 输入层\n",
    "    mnist_input = Input(shape=(784, 1), name='input') \n",
    "    # 把每一个像素想成是一序列有前后关系的time_steps\n",
    "    \n",
    "    # 特征提取层\n",
    "    extract = LSTM(64, return_sequences=True, name='extract')(mnist_input)\n",
    "    # 分类输出\n",
    "    class11 = LSTM(32,name='class11')(extract) #默认 return_sequences=False，就不输出784个时间步\n",
    "    class12 = Dense(32,activation='relu',name='class12')(class11)\n",
    "    output1 = Dense(10,activation='softmax',name= 'output1')(class12)\n",
    "    \n",
    "    # 序列输出\n",
    "    output2 = TimeDistributed(Dense(10,activation='softmax'),name= 'output2')(extract)\n",
    "    # TimeDistributed 来将 Dense 层独立地应用到 这 784个时间步的每一个，保持数据的维度\n",
    "    # 以Model来组合整个网络\n",
    "    model = Model(inputs=mnist_input,outputs=[output1,output2])\n",
    "    model.summary()\n",
    "    \n",
    "multi_output_model = lstm_multi_output()\n"
   ]
  },
  {
   "cell_type": "code",
   "execution_count": 48,
   "metadata": {
    "ExecuteTime": {
     "end_time": "2020-02-12T13:34:01.265890Z",
     "start_time": "2020-02-12T13:33:59.543721Z"
    },
    "code_folding": [
     0
    ],
    "collapsed": true
   },
   "outputs": [
    {
     "name": "stdout",
     "output_type": "stream",
     "text": [
      "Model: \"model_18\"\n",
      "__________________________________________________________________________________________________\n",
      "Layer (type)                    Output Shape         Param #     Connected to                     \n",
      "==================================================================================================\n",
      "in (InputLayer)                 (None, 50, 128)      0                                            \n",
      "__________________________________________________________________________________________________\n",
      "conv1d_25 (Conv1D)              (None, 50, 128)      16512       in[0][0]                         \n",
      "__________________________________________________________________________________________________\n",
      "conv1d_26 (Conv1D)              (None, 49, 128)      32896       in[0][0]                         \n",
      "__________________________________________________________________________________________________\n",
      "batch_normalization_17 (BatchNo (None, 50, 128)      512         conv1d_25[0][0]                  \n",
      "__________________________________________________________________________________________________\n",
      "batch_normalization_18 (BatchNo (None, 49, 128)      512         conv1d_26[0][0]                  \n",
      "__________________________________________________________________________________________________\n",
      "re_lu_13 (ReLU)                 (None, 50, 128)      0           batch_normalization_17[0][0]     \n",
      "__________________________________________________________________________________________________\n",
      "re_lu_14 (ReLU)                 (None, 49, 128)      0           batch_normalization_18[0][0]     \n",
      "__________________________________________________________________________________________________\n",
      "max_pooling1d_18 (MaxPooling1D) (None, 25, 128)      0           re_lu_13[0][0]                   \n",
      "__________________________________________________________________________________________________\n",
      "max_pooling1d_19 (MaxPooling1D) (None, 24, 128)      0           re_lu_14[0][0]                   \n",
      "__________________________________________________________________________________________________\n",
      "dropout_25 (Dropout)            (None, 25, 128)      0           max_pooling1d_18[0][0]           \n",
      "__________________________________________________________________________________________________\n",
      "dropout_26 (Dropout)            (None, 24, 128)      0           max_pooling1d_19[0][0]           \n",
      "__________________________________________________________________________________________________\n",
      "extract (Concatenate)           (None, 49, 128)      0           dropout_25[0][0]                 \n",
      "                                                                 dropout_26[0][0]                 \n",
      "__________________________________________________________________________________________________\n",
      "lsmt1 (Bidirectional)           (None, 256)          263168      extract[0][0]                    \n",
      "__________________________________________________________________________________________________\n",
      "lsmt2 (Bidirectional)           (None, 256)          263168      extract[0][0]                    \n",
      "__________________________________________________________________________________________________\n",
      "dense_50 (Dense)                (None, 64)           16448       lsmt1[0][0]                      \n",
      "__________________________________________________________________________________________________\n",
      "dense_51 (Dense)                (None, 64)           16448       lsmt2[0][0]                      \n",
      "__________________________________________________________________________________________________\n",
      "dropout_27 (Dropout)            (None, 64)           0           dense_50[0][0]                   \n",
      "__________________________________________________________________________________________________\n",
      "dropout_28 (Dropout)            (None, 64)           0           dense_51[0][0]                   \n",
      "__________________________________________________________________________________________________\n",
      "output1 (Dense)                 (None, 2)            130         dropout_27[0][0]                 \n",
      "__________________________________________________________________________________________________\n",
      "output2 (Dense)                 (None, 11)           715         dropout_28[0][0]                 \n",
      "==================================================================================================\n",
      "Total params: 610,509\n",
      "Trainable params: 609,997\n",
      "Non-trainable params: 512\n",
      "__________________________________________________________________________________________________\n"
     ]
    }
   ],
   "source": [
    "# 自己的练习，多个输入：\n",
    "from keras.layers import Dense, Input, LSTM, Dropout,ReLU,Bidirectional\n",
    "from keras.optimizers import Adam\n",
    "def BilstmCNN():\n",
    "    inputs = Input(shape=(50, 128), name='in')\n",
    "    # 提取特\n",
    "    conv_list = list()\n",
    "    for i in range(2):\n",
    "        conv1 = Conv1D(128, i + 1)(inputs)\n",
    "        bn = BatchNormalization()(conv1)\n",
    "        activation = ReLU()(bn)\n",
    "        x = MaxPool1D()(activation)\n",
    "        x = Dropout(0.5)(x)\n",
    "        conv_list.append(x)\n",
    "    extract = concatenate(conv_list, axis=1, name='extract')\n",
    "\n",
    "    # 事件检测输出层\n",
    "    lstm1 = Bidirectional(LSTM(128, return_sequences=False, dropout=0.35),\n",
    "                          merge_mode=\"concat\",\n",
    "                          name='lsmt1')(extract)\n",
    "    x = Dense(64)(lstm1)\n",
    "    x = Dropout(0.3)(x)\n",
    "    output1 = Dense(2, activation='softmax', name='output1')(x)\n",
    "\n",
    "    # 事件分类输出层\n",
    "    lstm2 = Bidirectional(LSTM(128, return_sequences=False, dropout=0.35),\n",
    "                          merge_mode=\"concat\",\n",
    "                          name='lsmt2')(extract)\n",
    "    x = Dense(64)(lstm2)\n",
    "    x = Dropout(0.3)(x)\n",
    "    output2 = Dense(11, activation='softmax', name='output2')(x)\n",
    "\n",
    "    model = Model(inputs=inputs, outputs=[output1, output2])\n",
    "    model.compile(loss='categorical_crossentropy',\n",
    "                  optimizer=Adam(0.0001),\n",
    "                  metrics=['accuracy'])\n",
    "    model.summary()\n",
    "    return model\n",
    "model = BilstmCNN() "
   ]
  },
  {
   "cell_type": "code",
   "execution_count": null,
   "metadata": {},
   "outputs": [],
   "source": []
  }
 ],
 "metadata": {
  "kernelspec": {
   "display_name": "event_analysis",
   "language": "python",
   "name": "event_analysis"
  },
  "language_info": {
   "codemirror_mode": {
    "name": "ipython",
    "version": 3
   },
   "file_extension": ".py",
   "mimetype": "text/x-python",
   "name": "python",
   "nbconvert_exporter": "python",
   "pygments_lexer": "ipython3",
   "version": "3.6.7"
  },
  "toc": {
   "base_numbering": 1,
   "nav_menu": {},
   "number_sections": true,
   "sideBar": true,
   "skip_h1_title": false,
   "title_cell": "Table of Contents",
   "title_sidebar": "Contents",
   "toc_cell": false,
   "toc_position": {
    "height": "calc(100% - 180px)",
    "left": "10px",
    "top": "150px",
    "width": "169.438px"
   },
   "toc_section_display": true,
   "toc_window_display": false
  },
  "varInspector": {
   "cols": {
    "lenName": 16,
    "lenType": 16,
    "lenVar": 40
   },
   "kernels_config": {
    "python": {
     "delete_cmd_postfix": "",
     "delete_cmd_prefix": "del ",
     "library": "var_list.py",
     "varRefreshCmd": "print(var_dic_list())"
    },
    "r": {
     "delete_cmd_postfix": ") ",
     "delete_cmd_prefix": "rm(",
     "library": "var_list.r",
     "varRefreshCmd": "cat(var_dic_list()) "
    }
   },
   "types_to_exclude": [
    "module",
    "function",
    "builtin_function_or_method",
    "instance",
    "_Feature"
   ],
   "window_display": false
  }
 },
 "nbformat": 4,
 "nbformat_minor": 2
}
